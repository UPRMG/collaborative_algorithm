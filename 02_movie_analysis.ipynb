{
 "cells": [
  {
   "cell_type": "markdown",
   "metadata": {},
   "source": [
    "## 1. Dataset"
   ]
  },
  {
   "cell_type": "code",
   "execution_count": 29,
   "metadata": {},
   "outputs": [
    {
     "data": {
      "text/html": [
       "<div>\n",
       "<style scoped>\n",
       "    .dataframe tbody tr th:only-of-type {\n",
       "        vertical-align: middle;\n",
       "    }\n",
       "\n",
       "    .dataframe tbody tr th {\n",
       "        vertical-align: top;\n",
       "    }\n",
       "\n",
       "    .dataframe thead th {\n",
       "        text-align: right;\n",
       "    }\n",
       "</style>\n",
       "<table border=\"1\" class=\"dataframe\">\n",
       "  <thead>\n",
       "    <tr style=\"text-align: right;\">\n",
       "      <th></th>\n",
       "      <th>userId</th>\n",
       "      <th>movieId</th>\n",
       "      <th>rating</th>\n",
       "    </tr>\n",
       "  </thead>\n",
       "  <tbody>\n",
       "    <tr>\n",
       "      <th>99999</th>\n",
       "      <td>671</td>\n",
       "      <td>6268</td>\n",
       "      <td>2.5</td>\n",
       "    </tr>\n",
       "    <tr>\n",
       "      <th>100000</th>\n",
       "      <td>671</td>\n",
       "      <td>6269</td>\n",
       "      <td>4.0</td>\n",
       "    </tr>\n",
       "    <tr>\n",
       "      <th>100001</th>\n",
       "      <td>671</td>\n",
       "      <td>6365</td>\n",
       "      <td>4.0</td>\n",
       "    </tr>\n",
       "    <tr>\n",
       "      <th>100002</th>\n",
       "      <td>671</td>\n",
       "      <td>6385</td>\n",
       "      <td>2.5</td>\n",
       "    </tr>\n",
       "    <tr>\n",
       "      <th>100003</th>\n",
       "      <td>671</td>\n",
       "      <td>6565</td>\n",
       "      <td>3.5</td>\n",
       "    </tr>\n",
       "  </tbody>\n",
       "</table>\n",
       "</div>"
      ],
      "text/plain": [
       "        userId  movieId  rating\n",
       "99999      671     6268     2.5\n",
       "100000     671     6269     4.0\n",
       "100001     671     6365     4.0\n",
       "100002     671     6385     2.5\n",
       "100003     671     6565     3.5"
      ]
     },
     "execution_count": 29,
     "metadata": {},
     "output_type": "execute_result"
    }
   ],
   "source": [
    "r_df = pd.read_csv(\"ratings_small.csv\")\n",
    "r_df.drop(\"timestamp\", axis=1, inplace=True)\n",
    "r_df.tail()"
   ]
  },
  {
   "cell_type": "markdown",
   "metadata": {},
   "source": [
    "## 2. Check Variance"
   ]
  },
  {
   "cell_type": "code",
   "execution_count": 30,
   "metadata": {},
   "outputs": [
    {
     "data": {
      "text/latex": [
       "$$671$$"
      ],
      "text/plain": [
       "671"
      ]
     },
     "execution_count": 30,
     "metadata": {},
     "output_type": "execute_result"
    }
   ],
   "source": [
    "uni_user = r_df[\"userId\"].unique()\n",
    "len(uni_user)"
   ]
  },
  {
   "cell_type": "code",
   "execution_count": 31,
   "metadata": {},
   "outputs": [
    {
     "data": {
      "text/latex": [
       "$$9066$$"
      ],
      "text/plain": [
       "9066"
      ]
     },
     "execution_count": 31,
     "metadata": {},
     "output_type": "execute_result"
    }
   ],
   "source": [
    "uni_movie = r_df[\"movieId\"].unique()\n",
    "len(uni_movie)"
   ]
  },
  {
   "cell_type": "code",
   "execution_count": 32,
   "metadata": {},
   "outputs": [
    {
     "data": {
      "text/plain": [
       "0.5     1101\n",
       "1.0     3326\n",
       "1.5     1687\n",
       "2.0     7271\n",
       "2.5     4449\n",
       "3.0    20064\n",
       "3.5    10538\n",
       "4.0    28750\n",
       "4.5     7723\n",
       "5.0    15095\n",
       "Name: rating, dtype: int64"
      ]
     },
     "execution_count": 32,
     "metadata": {},
     "output_type": "execute_result"
    }
   ],
   "source": [
    "uni_rating = r_df[\"rating\"].value_counts().sort_index()\n",
    "uni_rating"
   ]
  },
  {
   "cell_type": "code",
   "execution_count": 33,
   "metadata": {},
   "outputs": [
    {
     "data": {
      "text/html": [
       "<div>\n",
       "<style scoped>\n",
       "    .dataframe tbody tr th:only-of-type {\n",
       "        vertical-align: middle;\n",
       "    }\n",
       "\n",
       "    .dataframe tbody tr th {\n",
       "        vertical-align: top;\n",
       "    }\n",
       "\n",
       "    .dataframe thead th {\n",
       "        text-align: right;\n",
       "    }\n",
       "</style>\n",
       "<table border=\"1\" class=\"dataframe\">\n",
       "  <thead>\n",
       "    <tr style=\"text-align: right;\">\n",
       "      <th></th>\n",
       "      <th>rating</th>\n",
       "      <th>rating_counts</th>\n",
       "    </tr>\n",
       "  </thead>\n",
       "  <tbody>\n",
       "    <tr>\n",
       "      <th>0</th>\n",
       "      <td>0.5</td>\n",
       "      <td>1101</td>\n",
       "    </tr>\n",
       "    <tr>\n",
       "      <th>1</th>\n",
       "      <td>1.0</td>\n",
       "      <td>3326</td>\n",
       "    </tr>\n",
       "    <tr>\n",
       "      <th>2</th>\n",
       "      <td>1.5</td>\n",
       "      <td>1687</td>\n",
       "    </tr>\n",
       "    <tr>\n",
       "      <th>3</th>\n",
       "      <td>2.0</td>\n",
       "      <td>7271</td>\n",
       "    </tr>\n",
       "    <tr>\n",
       "      <th>4</th>\n",
       "      <td>2.5</td>\n",
       "      <td>4449</td>\n",
       "    </tr>\n",
       "    <tr>\n",
       "      <th>5</th>\n",
       "      <td>3.0</td>\n",
       "      <td>20064</td>\n",
       "    </tr>\n",
       "    <tr>\n",
       "      <th>6</th>\n",
       "      <td>3.5</td>\n",
       "      <td>10538</td>\n",
       "    </tr>\n",
       "    <tr>\n",
       "      <th>7</th>\n",
       "      <td>4.0</td>\n",
       "      <td>28750</td>\n",
       "    </tr>\n",
       "    <tr>\n",
       "      <th>8</th>\n",
       "      <td>4.5</td>\n",
       "      <td>7723</td>\n",
       "    </tr>\n",
       "    <tr>\n",
       "      <th>9</th>\n",
       "      <td>5.0</td>\n",
       "      <td>15095</td>\n",
       "    </tr>\n",
       "  </tbody>\n",
       "</table>\n",
       "</div>"
      ],
      "text/plain": [
       "   rating  rating_counts\n",
       "0     0.5           1101\n",
       "1     1.0           3326\n",
       "2     1.5           1687\n",
       "3     2.0           7271\n",
       "4     2.5           4449\n",
       "5     3.0          20064\n",
       "6     3.5          10538\n",
       "7     4.0          28750\n",
       "8     4.5           7723\n",
       "9     5.0          15095"
      ]
     },
     "execution_count": 33,
     "metadata": {},
     "output_type": "execute_result"
    }
   ],
   "source": [
    "# rating 분포\n",
    "\n",
    "r_df.groupby(\"rating\").size().reset_index(name=\"rating_counts\")"
   ]
  },
  {
   "cell_type": "code",
   "execution_count": 43,
   "metadata": {},
   "outputs": [
    {
     "data": {
      "text/html": [
       "<div>\n",
       "<style scoped>\n",
       "    .dataframe tbody tr th:only-of-type {\n",
       "        vertical-align: middle;\n",
       "    }\n",
       "\n",
       "    .dataframe tbody tr th {\n",
       "        vertical-align: top;\n",
       "    }\n",
       "\n",
       "    .dataframe thead th {\n",
       "        text-align: right;\n",
       "    }\n",
       "</style>\n",
       "<table border=\"1\" class=\"dataframe\">\n",
       "  <thead>\n",
       "    <tr style=\"text-align: right;\">\n",
       "      <th></th>\n",
       "      <th>userId</th>\n",
       "      <th>user_rating_counts</th>\n",
       "    </tr>\n",
       "  </thead>\n",
       "  <tbody>\n",
       "    <tr>\n",
       "      <th>546</th>\n",
       "      <td>547</td>\n",
       "      <td>2391</td>\n",
       "    </tr>\n",
       "    <tr>\n",
       "      <th>563</th>\n",
       "      <td>564</td>\n",
       "      <td>1868</td>\n",
       "    </tr>\n",
       "    <tr>\n",
       "      <th>623</th>\n",
       "      <td>624</td>\n",
       "      <td>1735</td>\n",
       "    </tr>\n",
       "    <tr>\n",
       "      <th>14</th>\n",
       "      <td>15</td>\n",
       "      <td>1700</td>\n",
       "    </tr>\n",
       "    <tr>\n",
       "      <th>72</th>\n",
       "      <td>73</td>\n",
       "      <td>1610</td>\n",
       "    </tr>\n",
       "  </tbody>\n",
       "</table>\n",
       "</div>"
      ],
      "text/plain": [
       "     userId  user_rating_counts\n",
       "546     547                2391\n",
       "563     564                1868\n",
       "623     624                1735\n",
       "14       15                1700\n",
       "72       73                1610"
      ]
     },
     "execution_count": 43,
     "metadata": {},
     "output_type": "execute_result"
    }
   ],
   "source": [
    "# user 분포\n",
    "\n",
    "user_counts_df = r_df.groupby(\"userId\").size().reset_index(name=\"user_rating_counts\")\n",
    "user_counts_df = user_counts_df.sort_values(\"user_rating_counts\", ascending=False)\n",
    "user_counts_df.head()"
   ]
  },
  {
   "cell_type": "code",
   "execution_count": 51,
   "metadata": {},
   "outputs": [
    {
     "data": {
      "text/html": [
       "<div>\n",
       "<style scoped>\n",
       "    .dataframe tbody tr th:only-of-type {\n",
       "        vertical-align: middle;\n",
       "    }\n",
       "\n",
       "    .dataframe tbody tr th {\n",
       "        vertical-align: top;\n",
       "    }\n",
       "\n",
       "    .dataframe thead th {\n",
       "        text-align: right;\n",
       "    }\n",
       "</style>\n",
       "<table border=\"1\" class=\"dataframe\">\n",
       "  <thead>\n",
       "    <tr style=\"text-align: right;\">\n",
       "      <th></th>\n",
       "      <th>movieId</th>\n",
       "      <th>movie_rating_counts</th>\n",
       "    </tr>\n",
       "  </thead>\n",
       "  <tbody>\n",
       "    <tr>\n",
       "      <th>321</th>\n",
       "      <td>356</td>\n",
       "      <td>341</td>\n",
       "    </tr>\n",
       "    <tr>\n",
       "      <th>266</th>\n",
       "      <td>296</td>\n",
       "      <td>324</td>\n",
       "    </tr>\n",
       "    <tr>\n",
       "      <th>284</th>\n",
       "      <td>318</td>\n",
       "      <td>311</td>\n",
       "    </tr>\n",
       "    <tr>\n",
       "      <th>525</th>\n",
       "      <td>593</td>\n",
       "      <td>304</td>\n",
       "    </tr>\n",
       "    <tr>\n",
       "      <th>232</th>\n",
       "      <td>260</td>\n",
       "      <td>291</td>\n",
       "    </tr>\n",
       "  </tbody>\n",
       "</table>\n",
       "</div>"
      ],
      "text/plain": [
       "     movieId  movie_rating_counts\n",
       "321      356                  341\n",
       "266      296                  324\n",
       "284      318                  311\n",
       "525      593                  304\n",
       "232      260                  291"
      ]
     },
     "execution_count": 51,
     "metadata": {},
     "output_type": "execute_result"
    }
   ],
   "source": [
    "# movie 분포\n",
    "\n",
    "movie_counts_df = r_df.groupby(\"movieId\").size().reset_index(name=\"movie_rating_counts\")\n",
    "movie_counts_df = movie_counts_df.sort_values(\"movie_rating_counts\", ascending=False)\n",
    "movie_counts_df.head()"
   ]
  },
  {
   "cell_type": "markdown",
   "metadata": {},
   "source": [
    "## 3. Preprocessing"
   ]
  },
  {
   "cell_type": "code",
   "execution_count": 71,
   "metadata": {},
   "outputs": [],
   "source": [
    "# user 최소 평가수, movie 최소 평가수\n",
    "u_limit, m_limit = 365, 100"
   ]
  },
  {
   "cell_type": "code",
   "execution_count": 72,
   "metadata": {},
   "outputs": [
    {
     "data": {
      "text/latex": [
       "$$\\left ( 59, \\quad \\left [ 547, \\quad 564, \\quad 624, \\quad 15, \\quad 73\\right ]\\right )$$"
      ],
      "text/plain": [
       "(59, [547, 564, 624, 15, 73])"
      ]
     },
     "execution_count": 72,
     "metadata": {},
     "output_type": "execute_result"
    }
   ],
   "source": [
    "filtered_userId = user_counts_df[user_counts_df[\"user_rating_counts\"] > u_limit]\n",
    "filtered_userId = list(filtered_userId[\"userId\"])\n",
    "len(filtered_userId), filtered_userId[:5]"
   ]
  },
  {
   "cell_type": "code",
   "execution_count": 73,
   "metadata": {},
   "outputs": [
    {
     "data": {
      "text/latex": [
       "$$\\left ( 149, \\quad \\left [ 356, \\quad 296, \\quad 318, \\quad 593, \\quad 260\\right ]\\right )$$"
      ],
      "text/plain": [
       "(149, [356, 296, 318, 593, 260])"
      ]
     },
     "execution_count": 73,
     "metadata": {},
     "output_type": "execute_result"
    }
   ],
   "source": [
    "filtered_movieId = movie_counts_df[movie_counts_df[\"movie_rating_counts\"] > m_limit]\n",
    "filtered_movieId = list(filtered_movieId[\"movieId\"])\n",
    "len(filtered_movieId), filtered_movieId[:5]"
   ]
  },
  {
   "cell_type": "code",
   "execution_count": 78,
   "metadata": {},
   "outputs": [
    {
     "data": {
      "text/latex": [
       "$$5570$$"
      ],
      "text/plain": [
       "5570"
      ]
     },
     "execution_count": 78,
     "metadata": {},
     "output_type": "execute_result"
    }
   ],
   "source": [
    "filtered_df = r_df[r_df[\"userId\"].isin(filtered_userId)]\n",
    "len(filterd_df)\n",
    "\n",
    "filtered_df = filtered_df[filtered_df[\"movieId\"].isin(filtered_movieId)]\n",
    "len(filterd_df)"
   ]
  },
  {
   "cell_type": "markdown",
   "metadata": {},
   "source": [
    "## 4. Pivot"
   ]
  },
  {
   "cell_type": "code",
   "execution_count": 84,
   "metadata": {},
   "outputs": [
    {
     "data": {
      "text/html": [
       "<div>\n",
       "<style scoped>\n",
       "    .dataframe tbody tr th:only-of-type {\n",
       "        vertical-align: middle;\n",
       "    }\n",
       "\n",
       "    .dataframe tbody tr th {\n",
       "        vertical-align: top;\n",
       "    }\n",
       "\n",
       "    .dataframe thead th {\n",
       "        text-align: right;\n",
       "    }\n",
       "</style>\n",
       "<table border=\"1\" class=\"dataframe\">\n",
       "  <thead>\n",
       "    <tr style=\"text-align: right;\">\n",
       "      <th>movieId</th>\n",
       "      <th>1</th>\n",
       "      <th>2</th>\n",
       "      <th>6</th>\n",
       "      <th>10</th>\n",
       "      <th>25</th>\n",
       "      <th>32</th>\n",
       "      <th>34</th>\n",
       "      <th>36</th>\n",
       "      <th>39</th>\n",
       "      <th>47</th>\n",
       "      <th>...</th>\n",
       "      <th>6377</th>\n",
       "      <th>6539</th>\n",
       "      <th>6874</th>\n",
       "      <th>7153</th>\n",
       "      <th>7361</th>\n",
       "      <th>7438</th>\n",
       "      <th>8961</th>\n",
       "      <th>33794</th>\n",
       "      <th>58559</th>\n",
       "      <th>79132</th>\n",
       "    </tr>\n",
       "    <tr>\n",
       "      <th>userId</th>\n",
       "      <th></th>\n",
       "      <th></th>\n",
       "      <th></th>\n",
       "      <th></th>\n",
       "      <th></th>\n",
       "      <th></th>\n",
       "      <th></th>\n",
       "      <th></th>\n",
       "      <th></th>\n",
       "      <th></th>\n",
       "      <th></th>\n",
       "      <th></th>\n",
       "      <th></th>\n",
       "      <th></th>\n",
       "      <th></th>\n",
       "      <th></th>\n",
       "      <th></th>\n",
       "      <th></th>\n",
       "      <th></th>\n",
       "      <th></th>\n",
       "      <th></th>\n",
       "    </tr>\n",
       "  </thead>\n",
       "  <tbody>\n",
       "    <tr>\n",
       "      <th>615</th>\n",
       "      <td>4.0</td>\n",
       "      <td>0.0</td>\n",
       "      <td>3.5</td>\n",
       "      <td>0.0</td>\n",
       "      <td>0.0</td>\n",
       "      <td>3.0</td>\n",
       "      <td>0.0</td>\n",
       "      <td>0.0</td>\n",
       "      <td>0.0</td>\n",
       "      <td>4.5</td>\n",
       "      <td>...</td>\n",
       "      <td>4.5</td>\n",
       "      <td>3.5</td>\n",
       "      <td>4.5</td>\n",
       "      <td>4.0</td>\n",
       "      <td>4.0</td>\n",
       "      <td>4.0</td>\n",
       "      <td>4.0</td>\n",
       "      <td>4.0</td>\n",
       "      <td>4.5</td>\n",
       "      <td>4.0</td>\n",
       "    </tr>\n",
       "    <tr>\n",
       "      <th>624</th>\n",
       "      <td>5.0</td>\n",
       "      <td>3.0</td>\n",
       "      <td>0.0</td>\n",
       "      <td>4.0</td>\n",
       "      <td>0.0</td>\n",
       "      <td>2.0</td>\n",
       "      <td>0.0</td>\n",
       "      <td>0.0</td>\n",
       "      <td>0.0</td>\n",
       "      <td>4.0</td>\n",
       "      <td>...</td>\n",
       "      <td>3.5</td>\n",
       "      <td>3.5</td>\n",
       "      <td>4.0</td>\n",
       "      <td>4.5</td>\n",
       "      <td>0.0</td>\n",
       "      <td>3.5</td>\n",
       "      <td>4.5</td>\n",
       "      <td>3.5</td>\n",
       "      <td>3.5</td>\n",
       "      <td>4.0</td>\n",
       "    </tr>\n",
       "    <tr>\n",
       "      <th>654</th>\n",
       "      <td>5.0</td>\n",
       "      <td>3.0</td>\n",
       "      <td>0.0</td>\n",
       "      <td>4.0</td>\n",
       "      <td>0.0</td>\n",
       "      <td>5.0</td>\n",
       "      <td>4.5</td>\n",
       "      <td>4.5</td>\n",
       "      <td>0.0</td>\n",
       "      <td>4.5</td>\n",
       "      <td>...</td>\n",
       "      <td>5.0</td>\n",
       "      <td>4.5</td>\n",
       "      <td>4.5</td>\n",
       "      <td>5.0</td>\n",
       "      <td>4.0</td>\n",
       "      <td>4.0</td>\n",
       "      <td>5.0</td>\n",
       "      <td>4.5</td>\n",
       "      <td>0.0</td>\n",
       "      <td>0.0</td>\n",
       "    </tr>\n",
       "    <tr>\n",
       "      <th>664</th>\n",
       "      <td>3.5</td>\n",
       "      <td>0.0</td>\n",
       "      <td>4.0</td>\n",
       "      <td>0.0</td>\n",
       "      <td>0.0</td>\n",
       "      <td>5.0</td>\n",
       "      <td>0.0</td>\n",
       "      <td>0.0</td>\n",
       "      <td>0.0</td>\n",
       "      <td>4.5</td>\n",
       "      <td>...</td>\n",
       "      <td>0.0</td>\n",
       "      <td>4.0</td>\n",
       "      <td>4.0</td>\n",
       "      <td>4.0</td>\n",
       "      <td>4.0</td>\n",
       "      <td>4.0</td>\n",
       "      <td>4.0</td>\n",
       "      <td>4.0</td>\n",
       "      <td>4.5</td>\n",
       "      <td>5.0</td>\n",
       "    </tr>\n",
       "    <tr>\n",
       "      <th>665</th>\n",
       "      <td>0.0</td>\n",
       "      <td>3.0</td>\n",
       "      <td>0.0</td>\n",
       "      <td>0.0</td>\n",
       "      <td>0.0</td>\n",
       "      <td>4.0</td>\n",
       "      <td>2.0</td>\n",
       "      <td>0.0</td>\n",
       "      <td>2.0</td>\n",
       "      <td>0.0</td>\n",
       "      <td>...</td>\n",
       "      <td>0.0</td>\n",
       "      <td>0.0</td>\n",
       "      <td>0.0</td>\n",
       "      <td>0.0</td>\n",
       "      <td>0.0</td>\n",
       "      <td>0.0</td>\n",
       "      <td>0.0</td>\n",
       "      <td>0.0</td>\n",
       "      <td>0.0</td>\n",
       "      <td>0.0</td>\n",
       "    </tr>\n",
       "  </tbody>\n",
       "</table>\n",
       "<p>5 rows × 149 columns</p>\n",
       "</div>"
      ],
      "text/plain": [
       "movieId  1      2      6      10     25     32     34     36     39     47     \\\n",
       "userId                                                                          \n",
       "615        4.0    0.0    3.5    0.0    0.0    3.0    0.0    0.0    0.0    4.5   \n",
       "624        5.0    3.0    0.0    4.0    0.0    2.0    0.0    0.0    0.0    4.0   \n",
       "654        5.0    3.0    0.0    4.0    0.0    5.0    4.5    4.5    0.0    4.5   \n",
       "664        3.5    0.0    4.0    0.0    0.0    5.0    0.0    0.0    0.0    4.5   \n",
       "665        0.0    3.0    0.0    0.0    0.0    4.0    2.0    0.0    2.0    0.0   \n",
       "\n",
       "movieId  ...    6377   6539   6874   7153   7361   7438   8961   33794  58559  \\\n",
       "userId   ...                                                                    \n",
       "615      ...      4.5    3.5    4.5    4.0    4.0    4.0    4.0    4.0    4.5   \n",
       "624      ...      3.5    3.5    4.0    4.5    0.0    3.5    4.5    3.5    3.5   \n",
       "654      ...      5.0    4.5    4.5    5.0    4.0    4.0    5.0    4.5    0.0   \n",
       "664      ...      0.0    4.0    4.0    4.0    4.0    4.0    4.0    4.0    4.5   \n",
       "665      ...      0.0    0.0    0.0    0.0    0.0    0.0    0.0    0.0    0.0   \n",
       "\n",
       "movieId  79132  \n",
       "userId          \n",
       "615        4.0  \n",
       "624        4.0  \n",
       "654        0.0  \n",
       "664        5.0  \n",
       "665        0.0  \n",
       "\n",
       "[5 rows x 149 columns]"
      ]
     },
     "execution_count": 84,
     "metadata": {},
     "output_type": "execute_result"
    }
   ],
   "source": [
    "u_df = filtered_df.pivot_table(values=\"rating\", index=[\"userId\"], columns=[\"movieId\"], \n",
    "                               aggfunc=np.average, fill_value=0, dropna=False)\n",
    "u_df.tail()"
   ]
  },
  {
   "cell_type": "markdown",
   "metadata": {},
   "source": [
    "## 5. Function"
   ]
  },
  {
   "cell_type": "code",
   "execution_count": 92,
   "metadata": {},
   "outputs": [],
   "source": [
    "def cosine_similarity(v_1,v_2):\n",
    "    \n",
    "    idx = v_1.nonzero()[0]\n",
    "    if len(idx) == 0:\n",
    "        return -1\n",
    "\n",
    "    v_1 = np.array(v_1)[idx]\n",
    "    v_2 = np.array(v_2)[idx]\n",
    "    \n",
    "    idx = v_2.nonzero()[0]\n",
    "    if len(idx) == 0:\n",
    "        return -1\n",
    "\n",
    "    v_1 = np.array(v_1)[idx]\n",
    "    v_2 = np.array(v_2)[idx]\n",
    "    \n",
    "#     return v_1,v_2\n",
    "    return 1-sp.spatial.distance.cosine(v_1,v_2)"
   ]
  },
  {
   "cell_type": "code",
   "execution_count": 93,
   "metadata": {},
   "outputs": [
    {
     "data": {
      "text/latex": [
       "$$0.8320502943378437$$"
      ],
      "text/plain": [
       "0.8320502943378437"
      ]
     },
     "execution_count": 93,
     "metadata": {},
     "output_type": "execute_result"
    }
   ],
   "source": [
    "# test code cosine_similarity\n",
    "v_1 = np.array([1,0,3,0,5])\n",
    "v_2 = np.array([5,3,0,1,5])\n",
    "\n",
    "cosine_similarity(v_1,v_2)"
   ]
  },
  {
   "cell_type": "code",
   "execution_count": 94,
   "metadata": {},
   "outputs": [
    {
     "data": {
      "text/latex": [
       "$$0.9501250301799182$$"
      ],
      "text/plain": [
       "0.9501250301799182"
      ]
     },
     "execution_count": 94,
     "metadata": {},
     "output_type": "execute_result"
    }
   ],
   "source": [
    "cosine_similarity(u_df.loc[15],u_df.loc[19])"
   ]
  },
  {
   "cell_type": "code",
   "execution_count": 97,
   "metadata": {},
   "outputs": [],
   "source": [
    "def similarity_matrix(u_df, similarity_func):\n",
    "    \n",
    "    users = u_df.index\n",
    "    \n",
    "    df = u_df.T\n",
    "    \n",
    "    matrix = []\n",
    "    for idx_1, value_1 in df.items():\n",
    "        row=[]\n",
    "        for idx_2, value_2 in df.items():\n",
    "            row.append(similarity_func(value_1, value_2))\n",
    "        matrix.append(row)\n",
    "        \n",
    "    return pd.DataFrame(matrix, index=users, columns=users)"
   ]
  },
  {
   "cell_type": "code",
   "execution_count": 103,
   "metadata": {},
   "outputs": [
    {
     "data": {
      "text/html": [
       "<div>\n",
       "<style scoped>\n",
       "    .dataframe tbody tr th:only-of-type {\n",
       "        vertical-align: middle;\n",
       "    }\n",
       "\n",
       "    .dataframe tbody tr th {\n",
       "        vertical-align: top;\n",
       "    }\n",
       "\n",
       "    .dataframe thead th {\n",
       "        text-align: right;\n",
       "    }\n",
       "</style>\n",
       "<table border=\"1\" class=\"dataframe\">\n",
       "  <thead>\n",
       "    <tr style=\"text-align: right;\">\n",
       "      <th>userId</th>\n",
       "      <th>15</th>\n",
       "      <th>19</th>\n",
       "      <th>23</th>\n",
       "      <th>30</th>\n",
       "      <th>48</th>\n",
       "      <th>56</th>\n",
       "      <th>73</th>\n",
       "      <th>102</th>\n",
       "      <th>105</th>\n",
       "      <th>119</th>\n",
       "      <th>...</th>\n",
       "      <th>580</th>\n",
       "      <th>587</th>\n",
       "      <th>596</th>\n",
       "      <th>605</th>\n",
       "      <th>607</th>\n",
       "      <th>615</th>\n",
       "      <th>624</th>\n",
       "      <th>654</th>\n",
       "      <th>664</th>\n",
       "      <th>665</th>\n",
       "    </tr>\n",
       "    <tr>\n",
       "      <th>userId</th>\n",
       "      <th></th>\n",
       "      <th></th>\n",
       "      <th></th>\n",
       "      <th></th>\n",
       "      <th></th>\n",
       "      <th></th>\n",
       "      <th></th>\n",
       "      <th></th>\n",
       "      <th></th>\n",
       "      <th></th>\n",
       "      <th></th>\n",
       "      <th></th>\n",
       "      <th></th>\n",
       "      <th></th>\n",
       "      <th></th>\n",
       "      <th></th>\n",
       "      <th></th>\n",
       "      <th></th>\n",
       "      <th></th>\n",
       "      <th></th>\n",
       "      <th></th>\n",
       "    </tr>\n",
       "  </thead>\n",
       "  <tbody>\n",
       "    <tr>\n",
       "      <th>615</th>\n",
       "      <td>0.913701</td>\n",
       "      <td>0.986879</td>\n",
       "      <td>0.977971</td>\n",
       "      <td>0.976351</td>\n",
       "      <td>0.990701</td>\n",
       "      <td>0.986844</td>\n",
       "      <td>0.977249</td>\n",
       "      <td>0.977529</td>\n",
       "      <td>0.981156</td>\n",
       "      <td>0.975449</td>\n",
       "      <td>...</td>\n",
       "      <td>0.984180</td>\n",
       "      <td>0.982973</td>\n",
       "      <td>0.984113</td>\n",
       "      <td>0.945157</td>\n",
       "      <td>0.979301</td>\n",
       "      <td>1.000000</td>\n",
       "      <td>0.977023</td>\n",
       "      <td>0.991736</td>\n",
       "      <td>0.991745</td>\n",
       "      <td>0.977560</td>\n",
       "    </tr>\n",
       "    <tr>\n",
       "      <th>624</th>\n",
       "      <td>0.933455</td>\n",
       "      <td>0.973056</td>\n",
       "      <td>0.974726</td>\n",
       "      <td>0.970812</td>\n",
       "      <td>0.977897</td>\n",
       "      <td>0.964744</td>\n",
       "      <td>0.968863</td>\n",
       "      <td>0.967962</td>\n",
       "      <td>0.974071</td>\n",
       "      <td>0.964382</td>\n",
       "      <td>...</td>\n",
       "      <td>0.967887</td>\n",
       "      <td>0.974954</td>\n",
       "      <td>0.970422</td>\n",
       "      <td>0.949962</td>\n",
       "      <td>0.968329</td>\n",
       "      <td>0.977023</td>\n",
       "      <td>1.000000</td>\n",
       "      <td>0.978762</td>\n",
       "      <td>0.977336</td>\n",
       "      <td>0.959331</td>\n",
       "    </tr>\n",
       "    <tr>\n",
       "      <th>654</th>\n",
       "      <td>0.917356</td>\n",
       "      <td>0.979269</td>\n",
       "      <td>0.981476</td>\n",
       "      <td>0.978836</td>\n",
       "      <td>0.987746</td>\n",
       "      <td>0.977249</td>\n",
       "      <td>0.976780</td>\n",
       "      <td>0.976687</td>\n",
       "      <td>0.983877</td>\n",
       "      <td>0.977521</td>\n",
       "      <td>...</td>\n",
       "      <td>0.983758</td>\n",
       "      <td>0.977940</td>\n",
       "      <td>0.981081</td>\n",
       "      <td>0.955068</td>\n",
       "      <td>0.980240</td>\n",
       "      <td>0.991736</td>\n",
       "      <td>0.978762</td>\n",
       "      <td>1.000000</td>\n",
       "      <td>0.993751</td>\n",
       "      <td>0.973894</td>\n",
       "    </tr>\n",
       "    <tr>\n",
       "      <th>664</th>\n",
       "      <td>0.930106</td>\n",
       "      <td>0.979273</td>\n",
       "      <td>0.985208</td>\n",
       "      <td>0.974926</td>\n",
       "      <td>0.993049</td>\n",
       "      <td>0.976032</td>\n",
       "      <td>0.982777</td>\n",
       "      <td>0.976597</td>\n",
       "      <td>0.982344</td>\n",
       "      <td>0.982795</td>\n",
       "      <td>...</td>\n",
       "      <td>0.983680</td>\n",
       "      <td>0.973120</td>\n",
       "      <td>0.988273</td>\n",
       "      <td>0.956637</td>\n",
       "      <td>0.988647</td>\n",
       "      <td>0.991745</td>\n",
       "      <td>0.977336</td>\n",
       "      <td>0.993751</td>\n",
       "      <td>1.000000</td>\n",
       "      <td>0.974557</td>\n",
       "    </tr>\n",
       "    <tr>\n",
       "      <th>665</th>\n",
       "      <td>0.903008</td>\n",
       "      <td>0.954240</td>\n",
       "      <td>0.967124</td>\n",
       "      <td>0.951942</td>\n",
       "      <td>0.976520</td>\n",
       "      <td>0.948660</td>\n",
       "      <td>0.962269</td>\n",
       "      <td>0.937813</td>\n",
       "      <td>0.964187</td>\n",
       "      <td>0.967379</td>\n",
       "      <td>...</td>\n",
       "      <td>0.962619</td>\n",
       "      <td>0.955417</td>\n",
       "      <td>0.954341</td>\n",
       "      <td>0.924420</td>\n",
       "      <td>0.960054</td>\n",
       "      <td>0.977560</td>\n",
       "      <td>0.959331</td>\n",
       "      <td>0.973894</td>\n",
       "      <td>0.974557</td>\n",
       "      <td>1.000000</td>\n",
       "    </tr>\n",
       "  </tbody>\n",
       "</table>\n",
       "<p>5 rows × 59 columns</p>\n",
       "</div>"
      ],
      "text/plain": [
       "userId       15        19        23        30        48        56        73   \\\n",
       "userId                                                                         \n",
       "615     0.913701  0.986879  0.977971  0.976351  0.990701  0.986844  0.977249   \n",
       "624     0.933455  0.973056  0.974726  0.970812  0.977897  0.964744  0.968863   \n",
       "654     0.917356  0.979269  0.981476  0.978836  0.987746  0.977249  0.976780   \n",
       "664     0.930106  0.979273  0.985208  0.974926  0.993049  0.976032  0.982777   \n",
       "665     0.903008  0.954240  0.967124  0.951942  0.976520  0.948660  0.962269   \n",
       "\n",
       "userId       102       105       119    ...          580       587       596  \\\n",
       "userId                                  ...                                    \n",
       "615     0.977529  0.981156  0.975449    ...     0.984180  0.982973  0.984113   \n",
       "624     0.967962  0.974071  0.964382    ...     0.967887  0.974954  0.970422   \n",
       "654     0.976687  0.983877  0.977521    ...     0.983758  0.977940  0.981081   \n",
       "664     0.976597  0.982344  0.982795    ...     0.983680  0.973120  0.988273   \n",
       "665     0.937813  0.964187  0.967379    ...     0.962619  0.955417  0.954341   \n",
       "\n",
       "userId       605       607       615       624       654       664       665  \n",
       "userId                                                                        \n",
       "615     0.945157  0.979301  1.000000  0.977023  0.991736  0.991745  0.977560  \n",
       "624     0.949962  0.968329  0.977023  1.000000  0.978762  0.977336  0.959331  \n",
       "654     0.955068  0.980240  0.991736  0.978762  1.000000  0.993751  0.973894  \n",
       "664     0.956637  0.988647  0.991745  0.977336  0.993751  1.000000  0.974557  \n",
       "665     0.924420  0.960054  0.977560  0.959331  0.973894  0.974557  1.000000  \n",
       "\n",
       "[5 rows x 59 columns]"
      ]
     },
     "execution_count": 103,
     "metadata": {},
     "output_type": "execute_result"
    }
   ],
   "source": [
    "# test code similarity_matrix\n",
    "sm_df = similarity_matrix(u_df, cosine_similarity)\n",
    "sm_df.tail()"
   ]
  },
  {
   "cell_type": "code",
   "execution_count": 105,
   "metadata": {},
   "outputs": [],
   "source": [
    "def mean_score(u_df, sm_df, target, closer_count):\n",
    "    \n",
    "    sms_df = sm_df.drop(target)\n",
    "    sms_df = sms_df.sort_values(target, ascending=False)\n",
    "    sms_df = sms_df[target][:closer_count]\n",
    "    \n",
    "    smsw_df = u_df.loc[sms_df.index]\n",
    "    \n",
    "    ms_df = pd.DataFrame(columns=u_df.columns)\n",
    "    ms_df.loc[\"user\"] = u_df.loc[target]\n",
    "    ms_df.loc[\"mean\"] = smsw_df.mean()\n",
    "    \n",
    "    return ms_df"
   ]
  },
  {
   "cell_type": "code",
   "execution_count": 112,
   "metadata": {},
   "outputs": [
    {
     "data": {
      "text/html": [
       "<div>\n",
       "<style scoped>\n",
       "    .dataframe tbody tr th:only-of-type {\n",
       "        vertical-align: middle;\n",
       "    }\n",
       "\n",
       "    .dataframe tbody tr th {\n",
       "        vertical-align: top;\n",
       "    }\n",
       "\n",
       "    .dataframe thead th {\n",
       "        text-align: right;\n",
       "    }\n",
       "</style>\n",
       "<table border=\"1\" class=\"dataframe\">\n",
       "  <thead>\n",
       "    <tr style=\"text-align: right;\">\n",
       "      <th>movieId</th>\n",
       "      <th>1</th>\n",
       "      <th>2</th>\n",
       "      <th>6</th>\n",
       "      <th>10</th>\n",
       "      <th>25</th>\n",
       "      <th>32</th>\n",
       "      <th>34</th>\n",
       "      <th>36</th>\n",
       "      <th>39</th>\n",
       "      <th>47</th>\n",
       "      <th>...</th>\n",
       "      <th>6377</th>\n",
       "      <th>6539</th>\n",
       "      <th>6874</th>\n",
       "      <th>7153</th>\n",
       "      <th>7361</th>\n",
       "      <th>7438</th>\n",
       "      <th>8961</th>\n",
       "      <th>33794</th>\n",
       "      <th>58559</th>\n",
       "      <th>79132</th>\n",
       "    </tr>\n",
       "  </thead>\n",
       "  <tbody>\n",
       "    <tr>\n",
       "      <th>user</th>\n",
       "      <td>4.0</td>\n",
       "      <td>3.50</td>\n",
       "      <td>0.0</td>\n",
       "      <td>0.0</td>\n",
       "      <td>0.0</td>\n",
       "      <td>0.0</td>\n",
       "      <td>3.00</td>\n",
       "      <td>0.00</td>\n",
       "      <td>0.00</td>\n",
       "      <td>0.00</td>\n",
       "      <td>...</td>\n",
       "      <td>4.0</td>\n",
       "      <td>4.00</td>\n",
       "      <td>0.0</td>\n",
       "      <td>4.00</td>\n",
       "      <td>4.50</td>\n",
       "      <td>0.00</td>\n",
       "      <td>3.5</td>\n",
       "      <td>0.0</td>\n",
       "      <td>4.0</td>\n",
       "      <td>4.00</td>\n",
       "    </tr>\n",
       "    <tr>\n",
       "      <th>mean</th>\n",
       "      <td>3.6</td>\n",
       "      <td>1.65</td>\n",
       "      <td>1.5</td>\n",
       "      <td>1.5</td>\n",
       "      <td>1.2</td>\n",
       "      <td>2.1</td>\n",
       "      <td>1.55</td>\n",
       "      <td>0.95</td>\n",
       "      <td>1.55</td>\n",
       "      <td>2.95</td>\n",
       "      <td>...</td>\n",
       "      <td>2.6</td>\n",
       "      <td>2.85</td>\n",
       "      <td>2.4</td>\n",
       "      <td>3.05</td>\n",
       "      <td>2.35</td>\n",
       "      <td>2.35</td>\n",
       "      <td>3.0</td>\n",
       "      <td>2.6</td>\n",
       "      <td>1.4</td>\n",
       "      <td>1.75</td>\n",
       "    </tr>\n",
       "  </tbody>\n",
       "</table>\n",
       "<p>2 rows × 149 columns</p>\n",
       "</div>"
      ],
      "text/plain": [
       "movieId  1      2      6      10     25     32     34     36     39     47     \\\n",
       "user       4.0   3.50    0.0    0.0    0.0    0.0   3.00   0.00   0.00   0.00   \n",
       "mean       3.6   1.65    1.5    1.5    1.2    2.1   1.55   0.95   1.55   2.95   \n",
       "\n",
       "movieId  ...    6377   6539   6874   7153   7361   7438   8961   33794  58559  \\\n",
       "user     ...      4.0   4.00    0.0   4.00   4.50   0.00    3.5    0.0    4.0   \n",
       "mean     ...      2.6   2.85    2.4   3.05   2.35   2.35    3.0    2.6    1.4   \n",
       "\n",
       "movieId  79132  \n",
       "user      4.00  \n",
       "mean      1.75  \n",
       "\n",
       "[2 rows x 149 columns]"
      ]
     },
     "execution_count": 112,
     "metadata": {},
     "output_type": "execute_result"
    }
   ],
   "source": [
    "# test code mean_score\n",
    "ms_df = mean_score(u_df, sm_df, 48, 10)\n",
    "ms_df"
   ]
  },
  {
   "cell_type": "code",
   "execution_count": 113,
   "metadata": {},
   "outputs": [],
   "source": [
    "#recommend\n",
    "def recomment(ms_df):\n",
    "    \n",
    "    recomment_df = ms_df.T\n",
    "    recomment_df = recomment_df[recomment_df[\"user\"] == 0]\n",
    "    recomment_df = recomment_df.sort_values(\"mean\", ascending=False)\n",
    "    \n",
    "    return recomment_df, list(recomment_df.index)   "
   ]
  },
  {
   "cell_type": "code",
   "execution_count": 114,
   "metadata": {},
   "outputs": [
    {
     "name": "stdout",
     "output_type": "stream",
     "text": [
      "[260, 1198, 1291, 318, 1036, 1196, 1210, 1265, 1136, 2028, 589, 380, 2502, 50, 457, 1197, 1704, 2916, 2791, 2918, 377, 733, 780, 2858, 47, 1617, 2396, 597, 1213, 590, 608, 2797, 1968, 592, 1517, 2628, 33794, 2683, 2716, 919, 165, 4963, 1393, 1259, 6874, 1387, 292, 1961, 7438, 5445, 1089, 454, 32, 316, 349, 4896, 1200, 1073, 500, 587, 736, 3996, 588, 1193, 539, 150, 1221, 912, 253, 185, 329, 339, 750, 153, 39, 586, 10, 6, 2174, 1208, 208, 25, 357, 36, 434]\n"
     ]
    },
    {
     "data": {
      "text/html": [
       "<div>\n",
       "<style scoped>\n",
       "    .dataframe tbody tr th:only-of-type {\n",
       "        vertical-align: middle;\n",
       "    }\n",
       "\n",
       "    .dataframe tbody tr th {\n",
       "        vertical-align: top;\n",
       "    }\n",
       "\n",
       "    .dataframe thead th {\n",
       "        text-align: right;\n",
       "    }\n",
       "</style>\n",
       "<table border=\"1\" class=\"dataframe\">\n",
       "  <thead>\n",
       "    <tr style=\"text-align: right;\">\n",
       "      <th></th>\n",
       "      <th>user</th>\n",
       "      <th>mean</th>\n",
       "    </tr>\n",
       "    <tr>\n",
       "      <th>movieId</th>\n",
       "      <th></th>\n",
       "      <th></th>\n",
       "    </tr>\n",
       "  </thead>\n",
       "  <tbody>\n",
       "    <tr>\n",
       "      <th>260</th>\n",
       "      <td>0.0</td>\n",
       "      <td>4.40</td>\n",
       "    </tr>\n",
       "    <tr>\n",
       "      <th>1198</th>\n",
       "      <td>0.0</td>\n",
       "      <td>4.35</td>\n",
       "    </tr>\n",
       "    <tr>\n",
       "      <th>1291</th>\n",
       "      <td>0.0</td>\n",
       "      <td>4.25</td>\n",
       "    </tr>\n",
       "    <tr>\n",
       "      <th>318</th>\n",
       "      <td>0.0</td>\n",
       "      <td>4.00</td>\n",
       "    </tr>\n",
       "    <tr>\n",
       "      <th>1036</th>\n",
       "      <td>0.0</td>\n",
       "      <td>3.95</td>\n",
       "    </tr>\n",
       "  </tbody>\n",
       "</table>\n",
       "</div>"
      ],
      "text/plain": [
       "         user  mean\n",
       "movieId            \n",
       "260       0.0  4.40\n",
       "1198      0.0  4.35\n",
       "1291      0.0  4.25\n",
       "318       0.0  4.00\n",
       "1036      0.0  3.95"
      ]
     },
     "execution_count": 114,
     "metadata": {},
     "output_type": "execute_result"
    }
   ],
   "source": [
    "# test code recommend\n",
    "recomment_df , recomment_list = recomment(ms_df)\n",
    "print(recomment_list)\n",
    "recomment_df.head()"
   ]
  },
  {
   "cell_type": "code",
   "execution_count": 156,
   "metadata": {},
   "outputs": [],
   "source": [
    "# MAE\n",
    "def mae(value, pre):\n",
    "    \n",
    "    idx = value.nonzero()[0]\n",
    "    if len(idx) == 0:\n",
    "        return -1\n",
    "    value = np.array(value)[idx]\n",
    "    pre = np.array(pre)[idx]\n",
    "    \n",
    "    idx = pre.nonzero()[0]\n",
    "    if len(idx) == 0:\n",
    "        return -1\n",
    "    value = np.array(value)[idx]\n",
    "    pre = np.array(pre)[idx]\n",
    "    \n",
    "    return sum(np.abs(value - pre) / len(idx))"
   ]
  },
  {
   "cell_type": "code",
   "execution_count": 157,
   "metadata": {},
   "outputs": [
    {
     "data": {
      "text/latex": [
       "$$1.2492187500000003$$"
      ],
      "text/plain": [
       "1.2492187500000003"
      ]
     },
     "execution_count": 157,
     "metadata": {},
     "output_type": "execute_result"
    }
   ],
   "source": [
    "# test code MAE\n",
    "mae(ms_df.loc[\"user\"], ms_df.loc[\"mean\"])"
   ]
  },
  {
   "cell_type": "code",
   "execution_count": 158,
   "metadata": {},
   "outputs": [],
   "source": [
    "def evaluate(u_df, sm_df, closer_count, algorithm):\n",
    "    \n",
    "    users = u_df.index\n",
    "    evaluate_list = []\n",
    "    \n",
    "    for target in users:\n",
    "        pre_df = mean_score(u_df, sm_df, target, closer_count)\n",
    "        evaluate_list.append(algorithm(pre_df.loc[\"user\"], pre_df.loc[\"mean\"]))\n",
    "    \n",
    "    return np.average(evaluate_list)"
   ]
  },
  {
   "cell_type": "code",
   "execution_count": 159,
   "metadata": {
    "scrolled": true
   },
   "outputs": [
    {
     "data": {
      "text/latex": [
       "$$1.4807110633380403$$"
      ],
      "text/plain": [
       "1.4807110633380403"
      ]
     },
     "execution_count": 159,
     "metadata": {},
     "output_type": "execute_result"
    }
   ],
   "source": [
    "# test code MAE\n",
    "evaluate(u_df, sm_df, 10, mae)"
   ]
  },
  {
   "cell_type": "code",
   "execution_count": 162,
   "metadata": {},
   "outputs": [
    {
     "name": "stdout",
     "output_type": "stream",
     "text": [
      "2 1.304871232477446\n",
      "3 1.489161802164799\n",
      "4 1.5568822047461943\n",
      "5 1.5484965993474271\n",
      "6 1.5375646916686692\n",
      "7 1.5316502433082961\n",
      "8 1.5144641478552179\n",
      "9 1.4995695256828276\n",
      "10 1.4807110633380403\n"
     ]
    }
   ],
   "source": [
    "start, end = 2, 10\n",
    "\n",
    "for closer_count in range(start, end+1):\n",
    "    print(closer_count, evaluate(u_df, sm_df, closer_count, mae))"
   ]
  },
  {
   "cell_type": "code",
   "execution_count": null,
   "metadata": {},
   "outputs": [],
   "source": []
  }
 ],
 "metadata": {
  "kernelspec": {
   "display_name": "Python 3",
   "language": "python",
   "name": "python3"
  },
  "language_info": {
   "codemirror_mode": {
    "name": "ipython",
    "version": 3
   },
   "file_extension": ".py",
   "mimetype": "text/x-python",
   "name": "python",
   "nbconvert_exporter": "python",
   "pygments_lexer": "ipython3",
   "version": "3.6.4"
  }
 },
 "nbformat": 4,
 "nbformat_minor": 2
}
