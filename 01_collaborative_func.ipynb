{
 "cells": [
  {
   "cell_type": "markdown",
   "metadata": {},
   "source": [
    "## 1. Similarity"
   ]
  },
  {
   "cell_type": "code",
   "execution_count": 20,
   "metadata": {},
   "outputs": [],
   "source": [
    "from \n",
    "\n",
    "v_1 = np.array([1,2,3,4,5])\n",
    "v_2 = np.array([5,4,3,2,1])\n",
    "v_3 = np.array([2,3,4,5,6])\n",
    "v_4 = np.array([11,19,28,32,47])"
   ]
  },
  {
   "cell_type": "code",
   "execution_count": 22,
   "metadata": {},
   "outputs": [
    {
     "data": {
      "text/latex": [
       "$$\\left ( 6.324555320336759, \\quad 6.324555320336759\\right )$$"
      ],
      "text/plain": [
       "(6.324555320336759, 6.324555320336759)"
      ]
     },
     "execution_count": 22,
     "metadata": {},
     "output_type": "execute_result"
    }
   ],
   "source": [
    "# Euclidean Distance Similarity\n",
    "\n",
    "np.sqrt(sum((v_1 - v_2)**2)), np.linalg.norm(v_1 - v_2)"
   ]
  },
  {
   "cell_type": "code",
   "execution_count": 39,
   "metadata": {},
   "outputs": [
    {
     "data": {
      "text/latex": [
       "$$\\left ( 0.6363636363636364, \\quad 0.6363636363636364\\right )$$"
      ],
      "text/plain": [
       "(0.6363636363636364, 0.6363636363636364)"
      ]
     },
     "execution_count": 39,
     "metadata": {},
     "output_type": "execute_result"
    }
   ],
   "source": [
    "# Cosine Similarity\n",
    "\n",
    "# 분자 - 벡터의 내적\n",
    "sum(v_1*v_2), np.dot(v_1,v_2)\n",
    "\n",
    "# 분모 - 벡터의 크기\n",
    "num2 = np.sqrt(sum(v_1*v_1)) * np.sqrt(sum(v_2*v_2))\n",
    "\n",
    "# 결과\n",
    "np.dot(v_1,v_2)/num2, 1 - sp.spatial.distance.cosine(v_1,v_2)"
   ]
  },
  {
   "cell_type": "code",
   "execution_count": 40,
   "metadata": {},
   "outputs": [
    {
     "data": {
      "text/latex": [
       "$$\\left ( 6.324555320336759, \\quad 2.23606797749979, \\quad 59.682493245507096\\right )$$"
      ],
      "text/plain": [
       "(6.324555320336759, 2.23606797749979, 59.682493245507096)"
      ]
     },
     "execution_count": 40,
     "metadata": {},
     "output_type": "execute_result"
    }
   ],
   "source": [
    "np.linalg.norm(v_1 - v_2),\\\n",
    "np.linalg.norm(v_1 - v_3),\\\n",
    "np.linalg.norm(v_1 - v_4)"
   ]
  },
  {
   "cell_type": "code",
   "execution_count": 41,
   "metadata": {},
   "outputs": [
    {
     "data": {
      "text/latex": [
       "$$\\left ( 0.6363636363636364, \\quad 0.9949366763261821, \\quad 0.9971083087048903\\right )$$"
      ],
      "text/plain": [
       "(0.6363636363636364, 0.9949366763261821, 0.9971083087048903)"
      ]
     },
     "execution_count": 41,
     "metadata": {},
     "output_type": "execute_result"
    }
   ],
   "source": [
    "1-sp.spatial.distance.cosine(v_1,v_2),\\\n",
    "1-sp.spatial.distance.cosine(v_1,v_3),\\\n",
    "1-sp.spatial.distance.cosine(v_1,v_4)"
   ]
  },
  {
   "cell_type": "code",
   "execution_count": null,
   "metadata": {},
   "outputs": [],
   "source": []
  },
  {
   "cell_type": "code",
   "execution_count": 49,
   "metadata": {},
   "outputs": [
    {
     "data": {
      "text/html": [
       "<div>\n",
       "<style scoped>\n",
       "    .dataframe tbody tr th:only-of-type {\n",
       "        vertical-align: middle;\n",
       "    }\n",
       "\n",
       "    .dataframe tbody tr th {\n",
       "        vertical-align: top;\n",
       "    }\n",
       "\n",
       "    .dataframe thead th {\n",
       "        text-align: right;\n",
       "    }\n",
       "</style>\n",
       "<table border=\"1\" class=\"dataframe\">\n",
       "  <thead>\n",
       "    <tr style=\"text-align: right;\">\n",
       "      <th></th>\n",
       "      <th>art_1</th>\n",
       "      <th>art_2</th>\n",
       "      <th>art_3</th>\n",
       "      <th>art_4</th>\n",
       "      <th>art_5</th>\n",
       "    </tr>\n",
       "  </thead>\n",
       "  <tbody>\n",
       "    <tr>\n",
       "      <th>u_1</th>\n",
       "      <td>5</td>\n",
       "      <td>3</td>\n",
       "      <td>0</td>\n",
       "      <td>0</td>\n",
       "      <td>2</td>\n",
       "    </tr>\n",
       "    <tr>\n",
       "      <th>u_2</th>\n",
       "      <td>2</td>\n",
       "      <td>0</td>\n",
       "      <td>0</td>\n",
       "      <td>1</td>\n",
       "      <td>4</td>\n",
       "    </tr>\n",
       "    <tr>\n",
       "      <th>u_3</th>\n",
       "      <td>0</td>\n",
       "      <td>0</td>\n",
       "      <td>4</td>\n",
       "      <td>3</td>\n",
       "      <td>1</td>\n",
       "    </tr>\n",
       "    <tr>\n",
       "      <th>u_4</th>\n",
       "      <td>4</td>\n",
       "      <td>0</td>\n",
       "      <td>4</td>\n",
       "      <td>5</td>\n",
       "      <td>0</td>\n",
       "    </tr>\n",
       "  </tbody>\n",
       "</table>\n",
       "</div>"
      ],
      "text/plain": [
       "     art_1  art_2  art_3  art_4  art_5\n",
       "u_1      5      3      0      0      2\n",
       "u_2      2      0      0      1      4\n",
       "u_3      0      0      4      3      1\n",
       "u_4      4      0      4      5      0"
      ]
     },
     "execution_count": 49,
     "metadata": {},
     "output_type": "execute_result"
    }
   ],
   "source": [
    "columns = [\"art_1\",\"art_2\",\"art_3\",\"art_4\",\"art_5\"]\n",
    "index = [\"u_1\",\"u_2\",\"u_3\",\"u_4\"]\n",
    "\n",
    "data = np.array([[5,3,0,0,2],\n",
    "                [2,0,0,1,4],\n",
    "                [0,0,4,3,1],\n",
    "                [4,0,4,5,0],])\n",
    "\n",
    "s_df = pd.DataFrame(data, columns=columns, index=index)\n",
    "s_df"
   ]
  },
  {
   "cell_type": "code",
   "execution_count": 67,
   "metadata": {},
   "outputs": [],
   "source": [
    "def cosine_similarity(v_1,v_2):\n",
    "    \n",
    "#     print(list(v_1),list(v_2))\n",
    "    idx = v_1.nonzero()[0]\n",
    "#     print(idx)\n",
    "    v_1 = np.array(v_1)[idx]\n",
    "    v_2 = np.array(v_2)[idx]\n",
    "#     print(v_1,v_2)\n",
    "    \n",
    "    return 1-sp.spatial.distance.cosine(v_1,v_2)"
   ]
  },
  {
   "cell_type": "code",
   "execution_count": 68,
   "metadata": {},
   "outputs": [
    {
     "data": {
      "text/latex": [
       "$$0.6529286250990105$$"
      ],
      "text/plain": [
       "0.6529286250990105"
      ]
     },
     "execution_count": 68,
     "metadata": {},
     "output_type": "execute_result"
    }
   ],
   "source": [
    "# test code - cosine similarity\n",
    "\n",
    "cosine_similarity(s_df.loc[\"u_1\"],s_df.loc[\"u_2\"])"
   ]
  },
  {
   "cell_type": "code",
   "execution_count": 69,
   "metadata": {},
   "outputs": [],
   "source": [
    "def similarity_matrix(s_df, similarity_func):\n",
    "    \n",
    "    index = s_df.index\n",
    "    \n",
    "    df = s_df.T\n",
    "    \n",
    "    matrix = []\n",
    "    for idx_1, value_1 in df.items():\n",
    "        row=[]\n",
    "        for idx_2, value_2 in df.items():\n",
    "            row.append(similarity_func(value_1, value_2))\n",
    "        matrix.append(row)\n",
    "        \n",
    "    return pd.DataFrame(matrix, index=index, columns=index)\n",
    "            "
   ]
  },
  {
   "cell_type": "code",
   "execution_count": 74,
   "metadata": {
    "scrolled": true
   },
   "outputs": [
    {
     "data": {
      "text/html": [
       "<div>\n",
       "<style scoped>\n",
       "    .dataframe tbody tr th:only-of-type {\n",
       "        vertical-align: middle;\n",
       "    }\n",
       "\n",
       "    .dataframe tbody tr th {\n",
       "        vertical-align: top;\n",
       "    }\n",
       "\n",
       "    .dataframe thead th {\n",
       "        text-align: right;\n",
       "    }\n",
       "</style>\n",
       "<table border=\"1\" class=\"dataframe\">\n",
       "  <thead>\n",
       "    <tr style=\"text-align: right;\">\n",
       "      <th></th>\n",
       "      <th>u_1</th>\n",
       "      <th>u_2</th>\n",
       "      <th>u_3</th>\n",
       "      <th>u_4</th>\n",
       "    </tr>\n",
       "  </thead>\n",
       "  <tbody>\n",
       "    <tr>\n",
       "      <th>u_1</th>\n",
       "      <td>1.000000</td>\n",
       "      <td>0.652929</td>\n",
       "      <td>0.324443</td>\n",
       "      <td>0.811107</td>\n",
       "    </tr>\n",
       "    <tr>\n",
       "      <th>u_2</th>\n",
       "      <td>0.729397</td>\n",
       "      <td>1.000000</td>\n",
       "      <td>0.483046</td>\n",
       "      <td>0.443039</td>\n",
       "    </tr>\n",
       "    <tr>\n",
       "      <th>u_3</th>\n",
       "      <td>0.196116</td>\n",
       "      <td>0.332956</td>\n",
       "      <td>1.000000</td>\n",
       "      <td>0.949474</td>\n",
       "    </tr>\n",
       "    <tr>\n",
       "      <th>u_4</th>\n",
       "      <td>0.529813</td>\n",
       "      <td>0.770054</td>\n",
       "      <td>0.821210</td>\n",
       "      <td>1.000000</td>\n",
       "    </tr>\n",
       "  </tbody>\n",
       "</table>\n",
       "</div>"
      ],
      "text/plain": [
       "          u_1       u_2       u_3       u_4\n",
       "u_1  1.000000  0.652929  0.324443  0.811107\n",
       "u_2  0.729397  1.000000  0.483046  0.443039\n",
       "u_3  0.196116  0.332956  1.000000  0.949474\n",
       "u_4  0.529813  0.770054  0.821210  1.000000"
      ]
     },
     "execution_count": 74,
     "metadata": {},
     "output_type": "execute_result"
    }
   ],
   "source": [
    "sm_df = similarity_matrix(s_df, cosine_similarity)\n",
    "sm_df"
   ]
  },
  {
   "cell_type": "code",
   "execution_count": 90,
   "metadata": {},
   "outputs": [
    {
     "data": {
      "text/html": [
       "<div>\n",
       "<style scoped>\n",
       "    .dataframe tbody tr th:only-of-type {\n",
       "        vertical-align: middle;\n",
       "    }\n",
       "\n",
       "    .dataframe tbody tr th {\n",
       "        vertical-align: top;\n",
       "    }\n",
       "\n",
       "    .dataframe thead th {\n",
       "        text-align: right;\n",
       "    }\n",
       "</style>\n",
       "<table border=\"1\" class=\"dataframe\">\n",
       "  <thead>\n",
       "    <tr style=\"text-align: right;\">\n",
       "      <th></th>\n",
       "      <th>art_1</th>\n",
       "      <th>art_2</th>\n",
       "      <th>art_3</th>\n",
       "      <th>art_4</th>\n",
       "      <th>art_5</th>\n",
       "    </tr>\n",
       "  </thead>\n",
       "  <tbody>\n",
       "    <tr>\n",
       "      <th>u_2</th>\n",
       "      <td>2</td>\n",
       "      <td>0</td>\n",
       "      <td>0</td>\n",
       "      <td>1</td>\n",
       "      <td>4</td>\n",
       "    </tr>\n",
       "    <tr>\n",
       "      <th>u_4</th>\n",
       "      <td>4</td>\n",
       "      <td>0</td>\n",
       "      <td>4</td>\n",
       "      <td>5</td>\n",
       "      <td>0</td>\n",
       "    </tr>\n",
       "  </tbody>\n",
       "</table>\n",
       "</div>"
      ],
      "text/plain": [
       "     art_1  art_2  art_3  art_4  art_5\n",
       "u_2      2      0      0      1      4\n",
       "u_4      4      0      4      5      0"
      ]
     },
     "execution_count": 90,
     "metadata": {},
     "output_type": "execute_result"
    }
   ],
   "source": [
    "user, closer_count = \"u_1\", 2\n",
    "\n",
    "ms_df = sm_df.drop(user)\n",
    "ms_df = ms_df.sort_values(user, ascending=False)\n",
    "ms_df = ms_df[:closer_count]\n",
    "\n",
    "ms_df \n",
    "\n",
    "s_df.loc[ms_df.index]"
   ]
  },
  {
   "cell_type": "code",
   "execution_count": 94,
   "metadata": {},
   "outputs": [
    {
     "data": {
      "text/plain": [
       "art_1    3.0\n",
       "art_2    0.0\n",
       "art_3    2.0\n",
       "art_4    3.0\n",
       "art_5    2.0\n",
       "Name: u_2, dtype: float64"
      ]
     },
     "execution_count": 94,
     "metadata": {},
     "output_type": "execute_result"
    }
   ],
   "source": [
    "mean = np.zeros(len(s_df.columns))\n",
    "for ms_user, sms_value in ms_df[user].items():\n",
    "    mean += s_df.loc[ms_user]\n",
    "mean /= len(ms_df[user])\n",
    "mean"
   ]
  },
  {
   "cell_type": "code",
   "execution_count": 102,
   "metadata": {},
   "outputs": [
    {
     "data": {
      "text/html": [
       "<div>\n",
       "<style scoped>\n",
       "    .dataframe tbody tr th:only-of-type {\n",
       "        vertical-align: middle;\n",
       "    }\n",
       "\n",
       "    .dataframe tbody tr th {\n",
       "        vertical-align: top;\n",
       "    }\n",
       "\n",
       "    .dataframe thead th {\n",
       "        text-align: right;\n",
       "    }\n",
       "</style>\n",
       "<table border=\"1\" class=\"dataframe\">\n",
       "  <thead>\n",
       "    <tr style=\"text-align: right;\">\n",
       "      <th></th>\n",
       "      <th>art_1</th>\n",
       "      <th>art_2</th>\n",
       "      <th>art_3</th>\n",
       "      <th>art_4</th>\n",
       "      <th>art_5</th>\n",
       "    </tr>\n",
       "  </thead>\n",
       "  <tbody>\n",
       "    <tr>\n",
       "      <th>user</th>\n",
       "      <td>5</td>\n",
       "      <td>3</td>\n",
       "      <td>0</td>\n",
       "      <td>0</td>\n",
       "      <td>2</td>\n",
       "    </tr>\n",
       "    <tr>\n",
       "      <th>mean</th>\n",
       "      <td>3</td>\n",
       "      <td>0</td>\n",
       "      <td>2</td>\n",
       "      <td>3</td>\n",
       "      <td>2</td>\n",
       "    </tr>\n",
       "  </tbody>\n",
       "</table>\n",
       "</div>"
      ],
      "text/plain": [
       "     art_1 art_2 art_3 art_4 art_5\n",
       "user     5     3     0     0     2\n",
       "mean     3     0     2     3     2"
      ]
     },
     "execution_count": 102,
     "metadata": {},
     "output_type": "execute_result"
    }
   ],
   "source": [
    "pre_df = pd.DataFrame(columns=s_df.columns)\n",
    "pre_df.loc[\"user\"] = s_df.loc[user]\n",
    "pre_df.loc[\"mean\"] = mean\n",
    "pre_df"
   ]
  },
  {
   "cell_type": "code",
   "execution_count": 127,
   "metadata": {},
   "outputs": [],
   "source": [
    "def mean_score(s_df, sm_df, target, closer_count):\n",
    "    \n",
    "    ms_df = sm_df.drop(user)\n",
    "    ms_df = ms_df.sort_values(user, ascending=False)\n",
    "    ms_df = ms_df[:closer_count]\n",
    "    \n",
    "    ms_df = s_df.loc[ms_df.index]\n",
    "    \n",
    "    pre_df = pd.DataFrame(columns=s_df.columns)\n",
    "    pre_df.loc[\"user\"] = s_df.loc[target]\n",
    "    pre_df.loc[\"mean\"] = ms_df.mean()\n",
    "    \n",
    "    return pre_df"
   ]
  },
  {
   "cell_type": "code",
   "execution_count": 128,
   "metadata": {},
   "outputs": [
    {
     "data": {
      "text/html": [
       "<div>\n",
       "<style scoped>\n",
       "    .dataframe tbody tr th:only-of-type {\n",
       "        vertical-align: middle;\n",
       "    }\n",
       "\n",
       "    .dataframe tbody tr th {\n",
       "        vertical-align: top;\n",
       "    }\n",
       "\n",
       "    .dataframe thead th {\n",
       "        text-align: right;\n",
       "    }\n",
       "</style>\n",
       "<table border=\"1\" class=\"dataframe\">\n",
       "  <thead>\n",
       "    <tr style=\"text-align: right;\">\n",
       "      <th></th>\n",
       "      <th>art_1</th>\n",
       "      <th>art_2</th>\n",
       "      <th>art_3</th>\n",
       "      <th>art_4</th>\n",
       "      <th>art_5</th>\n",
       "    </tr>\n",
       "  </thead>\n",
       "  <tbody>\n",
       "    <tr>\n",
       "      <th>user</th>\n",
       "      <td>5</td>\n",
       "      <td>3</td>\n",
       "      <td>0</td>\n",
       "      <td>0</td>\n",
       "      <td>2</td>\n",
       "    </tr>\n",
       "    <tr>\n",
       "      <th>mean</th>\n",
       "      <td>3</td>\n",
       "      <td>0</td>\n",
       "      <td>2</td>\n",
       "      <td>3</td>\n",
       "      <td>2</td>\n",
       "    </tr>\n",
       "  </tbody>\n",
       "</table>\n",
       "</div>"
      ],
      "text/plain": [
       "     art_1 art_2 art_3 art_4 art_5\n",
       "user     5     3     0     0     2\n",
       "mean     3     0     2     3     2"
      ]
     },
     "execution_count": 128,
     "metadata": {},
     "output_type": "execute_result"
    }
   ],
   "source": [
    "# test code - mean score\n",
    "\n",
    "mean_score(s_df, sm_df, \"u_1\", 2)"
   ]
  },
  {
   "cell_type": "code",
   "execution_count": 132,
   "metadata": {},
   "outputs": [
    {
     "name": "stdout",
     "output_type": "stream",
     "text": [
      "['art_4', 'art_3']\n"
     ]
    },
    {
     "data": {
      "text/html": [
       "<div>\n",
       "<style scoped>\n",
       "    .dataframe tbody tr th:only-of-type {\n",
       "        vertical-align: middle;\n",
       "    }\n",
       "\n",
       "    .dataframe tbody tr th {\n",
       "        vertical-align: top;\n",
       "    }\n",
       "\n",
       "    .dataframe thead th {\n",
       "        text-align: right;\n",
       "    }\n",
       "</style>\n",
       "<table border=\"1\" class=\"dataframe\">\n",
       "  <thead>\n",
       "    <tr style=\"text-align: right;\">\n",
       "      <th></th>\n",
       "      <th>user</th>\n",
       "      <th>mean</th>\n",
       "    </tr>\n",
       "  </thead>\n",
       "  <tbody>\n",
       "    <tr>\n",
       "      <th>art_4</th>\n",
       "      <td>0</td>\n",
       "      <td>3</td>\n",
       "    </tr>\n",
       "    <tr>\n",
       "      <th>art_3</th>\n",
       "      <td>0</td>\n",
       "      <td>2</td>\n",
       "    </tr>\n",
       "  </tbody>\n",
       "</table>\n",
       "</div>"
      ],
      "text/plain": [
       "      user mean\n",
       "art_4    0    3\n",
       "art_3    0    2"
      ]
     },
     "execution_count": 132,
     "metadata": {},
     "output_type": "execute_result"
    }
   ],
   "source": [
    "# recommend\n",
    "\n",
    "re_df = pre_df.T\n",
    "re_df = re_df[re_df[\"user\"]==0]\n",
    "re_df = re_df.sort_values(\"mean\", ascending=False)\n",
    "print(list(re_df.index))\n",
    "re_df"
   ]
  },
  {
   "cell_type": "markdown",
   "metadata": {},
   "source": [
    "## MSE"
   ]
  },
  {
   "cell_type": "code",
   "execution_count": 141,
   "metadata": {},
   "outputs": [],
   "source": [
    "def mse(value, pre):\n",
    "    idx = value.nonzero()[0]\n",
    "    value, pre = np.array(value)[idx], np.array(pre)[idx]\n",
    "    \n",
    "    return sum((value - pre) **2) / len(idx)"
   ]
  },
  {
   "cell_type": "code",
   "execution_count": 148,
   "metadata": {},
   "outputs": [
    {
     "data": {
      "text/latex": [
       "$$4.333333333333333$$"
      ],
      "text/plain": [
       "4.333333333333333"
      ]
     },
     "execution_count": 148,
     "metadata": {},
     "output_type": "execute_result"
    }
   ],
   "source": [
    "# test code mse\n",
    "mse(pre_df.loc[\"user\"], pre_df.loc[\"mean\"])"
   ]
  },
  {
   "cell_type": "code",
   "execution_count": 145,
   "metadata": {},
   "outputs": [],
   "source": [
    "def evaluate(s_df, sm_df, closer_count, algorithm):\n",
    "    \n",
    "    users = s_df.index\n",
    "    evaluate_list = []\n",
    "    \n",
    "    for target in users:\n",
    "        pre_df = mean_score(s_df, sm_df, target, closer_count)\n",
    "        evaluate_list.append(algorithm(pre_df.loc[\"user\"], pre_df.loc[\"mean\"]))\n",
    "    \n",
    "    return np.average(evaluate_list)"
   ]
  },
  {
   "cell_type": "code",
   "execution_count": 146,
   "metadata": {},
   "outputs": [
    {
     "data": {
      "text/latex": [
       "$$3.0$$"
      ],
      "text/plain": [
       "3.0"
      ]
     },
     "execution_count": 146,
     "metadata": {},
     "output_type": "execute_result"
    }
   ],
   "source": [
    "evaluate(s_df, sm_df, 2, mse)"
   ]
  },
  {
   "cell_type": "markdown",
   "metadata": {},
   "source": [
    "## RMSE"
   ]
  },
  {
   "cell_type": "code",
   "execution_count": 147,
   "metadata": {},
   "outputs": [],
   "source": [
    "def rmse(value, pre):\n",
    "    idx = value.nonzero()[0]\n",
    "    value, pre = np.array(value)[idx], np.array(pre)[idx]\n",
    "    \n",
    "    return np.sqrt(sum((value - pre) **2) / len(idx))"
   ]
  },
  {
   "cell_type": "code",
   "execution_count": 149,
   "metadata": {},
   "outputs": [
    {
     "data": {
      "text/latex": [
       "$$2.0816659994661326$$"
      ],
      "text/plain": [
       "2.0816659994661326"
      ]
     },
     "execution_count": 149,
     "metadata": {},
     "output_type": "execute_result"
    }
   ],
   "source": [
    "# test code rmse\n",
    "rmse(pre_df.loc[\"user\"], pre_df.loc[\"mean\"])"
   ]
  },
  {
   "cell_type": "code",
   "execution_count": 150,
   "metadata": {},
   "outputs": [
    {
     "data": {
      "text/latex": [
       "$$1.7091905158349232$$"
      ],
      "text/plain": [
       "1.7091905158349232"
      ]
     },
     "execution_count": 150,
     "metadata": {},
     "output_type": "execute_result"
    }
   ],
   "source": [
    "evaluate(s_df, sm_df, 2, rmse)"
   ]
  },
  {
   "cell_type": "markdown",
   "metadata": {},
   "source": [
    "## MAE"
   ]
  },
  {
   "cell_type": "code",
   "execution_count": 157,
   "metadata": {},
   "outputs": [],
   "source": [
    "def mae(value, pre):\n",
    "    idx = value.nonzero()[0]\n",
    "    value, pre = np.array(value)[idx], np.array(pre)[idx]\n",
    "    \n",
    "    return sum(np.abs(value - pre) / len(idx))"
   ]
  },
  {
   "cell_type": "code",
   "execution_count": 158,
   "metadata": {},
   "outputs": [
    {
     "data": {
      "text/latex": [
       "$$1.6666666666666665$$"
      ],
      "text/plain": [
       "1.6666666666666665"
      ]
     },
     "execution_count": 158,
     "metadata": {},
     "output_type": "execute_result"
    }
   ],
   "source": [
    "# test code mae\n",
    "mae(pre_df.loc[\"user\"], pre_df.loc[\"mean\"])"
   ]
  },
  {
   "cell_type": "code",
   "execution_count": 159,
   "metadata": {},
   "outputs": [
    {
     "data": {
      "text/latex": [
       "$$1.5$$"
      ],
      "text/plain": [
       "1.5"
      ]
     },
     "execution_count": 159,
     "metadata": {},
     "output_type": "execute_result"
    }
   ],
   "source": [
    "evaluate(s_df, sm_df, 2, mae)"
   ]
  },
  {
   "cell_type": "code",
   "execution_count": null,
   "metadata": {},
   "outputs": [],
   "source": []
  }
 ],
 "metadata": {
  "kernelspec": {
   "display_name": "Python 3",
   "language": "python",
   "name": "python3"
  },
  "language_info": {
   "codemirror_mode": {
    "name": "ipython",
    "version": 3
   },
   "file_extension": ".py",
   "mimetype": "text/x-python",
   "name": "python",
   "nbconvert_exporter": "python",
   "pygments_lexer": "ipython3",
   "version": "3.6.4"
  }
 },
 "nbformat": 4,
 "nbformat_minor": 2
}
